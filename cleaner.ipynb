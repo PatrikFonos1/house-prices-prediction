{
 "cells": [
  {
   "cell_type": "code",
   "execution_count": 106,
   "metadata": {},
   "outputs": [],
   "source": [
    "import re\n",
    "import pandas as pd\n",
    "import numpy as np"
   ]
  },
  {
   "cell_type": "code",
   "execution_count": 107,
   "metadata": {},
   "outputs": [],
   "source": [
    "data_date = \"2023-06-25\""
   ]
  },
  {
   "cell_type": "code",
   "execution_count": 108,
   "metadata": {},
   "outputs": [
    {
     "name": "stderr",
     "output_type": "stream",
     "text": [
      "/var/folders/2v/zjk16qr55dv34_t6b41l4rph0000gn/T/ipykernel_67708/1710399079.py:1: DtypeWarning: Columns (71,90,91) have mixed types. Specify dtype option on import or set low_memory=False.\n",
      "  df = pd.read_csv(data_date + \"_data.csv\")\n"
     ]
    }
   ],
   "source": [
    "df = pd.read_csv(data_date + \"_data.csv\")"
   ]
  },
  {
   "cell_type": "code",
   "execution_count": 109,
   "metadata": {},
   "outputs": [],
   "source": [
    "# Define the list of columns to one-hot encode\n",
    "one_hot_encode_cols = ['Typ bytu', 'Umístění objektu', 'Vybavení', 'Vlastnictví', 'Stav objektu', 'Stavba', 'Energetická náročnost budovy']\n",
    "\n",
    "# Define the list of binary columns\n",
    "binary_cols = ['Bazén', 'Půdní vestavba', 'Plyn', 'Bezbariérový', 'Terasa', 'Garáž', 'Výtah', 'Sklep', 'Parkování', 'Balkón']\n",
    "\n",
    "# Define the list of distance columns\n",
    "distance_cols = ['Večerka', 'Cukrárna', 'Divadlo', 'Veterinář',  'Hospoda', 'Kino', 'Hřiště', 'Přírodní zajímavost', 'Kulturní památka', 'Sportoviště', 'Bankomat', 'Školka', 'Pošta', 'Vlak', 'Bus MHD', 'Škola', 'Restaurace', 'Lékař', 'Tram', 'Obchod', 'Lékárna', 'Metro']\n"
   ]
  },
  {
   "cell_type": "code",
   "execution_count": 110,
   "metadata": {},
   "outputs": [],
   "source": [
    "# Define columns to keep\n",
    "cols_to_keep = ['url_id', 'Podlaží', 'Užitná plocha', 'Latitude', 'Longitude', 'Celková cena']\n",
    "\n",
    "# Combine columns from the other lists\n",
    "all_cols_to_keep = set(cols_to_keep + one_hot_encode_cols + binary_cols + distance_cols)\n",
    "\n",
    "# Columns present in the DataFrame\n",
    "all_cols_in_df = set(df.columns)\n",
    "\n",
    "# Columns to drop\n",
    "cols_to_drop = list(all_cols_in_df - all_cols_to_keep)\n",
    "\n",
    "# Drop the columns\n",
    "df = df.drop(columns=cols_to_drop)\n",
    "\n",
    "# Clean 'url_id'\n",
    "df['url_id'] = df['url_id'].str.replace('/cs/v2/estates/', '')\n",
    "\n",
    "# Prepare 'Podlaží'\n",
    "df['Podlaží'] = df['Podlaží'].str.extract('(\\d+)', expand=False)\n",
    "df['Podlaží'] = pd.to_numeric(df['Podlaží'], errors='coerce')\n",
    "\n",
    "# Convert 'Celková cena' to numerical by removing whitespace and non-digit characters\n",
    "df['Celková cena'] = df['Celková cena'].replace('\\D', '', regex=True).astype(float)\n",
    "\n",
    "# Correctly prepare 'Energetická náročnost budovy' by extracting the letter after \"Třída\"\n",
    "df['Energetická náročnost budovy'] = df['Energetická náročnost budovy'].str.extract('Třída (\\w)', expand=False)"
   ]
  },
  {
   "cell_type": "code",
   "execution_count": 111,
   "metadata": {},
   "outputs": [],
   "source": [
    "# One-hot encode the specified columns\n",
    "df = pd.get_dummies(df, columns=one_hot_encode_cols, drop_first=False)\n",
    "\n",
    "# Convert the binary columns to 1 or 0\n",
    "for col in binary_cols:\n",
    "    df[col] = df[col].notnull().astype(int)\n",
    "\n",
    "# Drop rows where both 'url_id' and 'Celková cena' are missing\n",
    "df = df.dropna(subset=['url_id', 'Celková cena'], how='all')\n",
    "\n",
    "\n",
    "# Fill missing values in 'Podlaží' with average\n",
    "df.loc[:, 'Podlaží'] = df['Podlaží'].fillna(0)"
   ]
  },
  {
   "cell_type": "code",
   "execution_count": 112,
   "metadata": {},
   "outputs": [],
   "source": [
    "# Fill missing values in distance columns with 10000 (representing 10 kilometers)\n",
    "df[distance_cols] = df[distance_cols].fillna(10000)\n",
    "\n",
    "def process_and_encode_distance(df, one_hot_encode_distance=False):\n",
    "    # Define the bins and labels\n",
    "    bins = [0, 500, 1000, 2000, 5000, float('inf')]\n",
    "    labels = ['Very Close', 'Close', 'Medium Distance', 'Far', 'Very Far']\n",
    "\n",
    "    # Apply binning to the distance columns\n",
    "    for col in distance_cols:\n",
    "        df[col] = pd.cut(df[col], bins=bins, labels=labels, right=False)\n",
    "    \n",
    "    # Conditionally one-hot encode\n",
    "    if one_hot_encode_distance:\n",
    "        df = pd.get_dummies(df, columns=distance_cols, drop_first=True)\n",
    "    \n",
    "    return df\n",
    "\n",
    "df = process_and_encode_distance(df, one_hot_encode_distance=True)"
   ]
  },
  {
   "cell_type": "code",
   "execution_count": 113,
   "metadata": {},
   "outputs": [
    {
     "data": {
      "text/plain": [
       "8307       5.0\n",
       "10233      5.0\n",
       "12728      7.0\n",
       "16406      8.0\n",
       "15987      9.0\n",
       "         ...  \n",
       "3662     546.0\n",
       "10184    645.0\n",
       "5430     743.0\n",
       "4488     758.0\n",
       "18070    927.0\n",
       "Name: Užitná plocha, Length: 19095, dtype: float64"
      ]
     },
     "execution_count": 113,
     "metadata": {},
     "output_type": "execute_result"
    }
   ],
   "source": [
    "# Užitná plocha sorted from lowest to highest\n",
    "df['Užitná plocha'].sort_values()\n",
    "\n"
   ]
  },
  {
   "cell_type": "code",
   "execution_count": 114,
   "metadata": {},
   "outputs": [],
   "source": [
    "# Drop 10 lowest values of 'Užitná plocha'\n",
    "df = df.drop(df['Užitná plocha'].sort_values()[:50].index)"
   ]
  },
  {
   "cell_type": "code",
   "execution_count": 115,
   "metadata": {},
   "outputs": [
    {
     "data": {
      "text/plain": [
       "15037     11.0\n",
       "703       11.0\n",
       "18019     11.0\n",
       "15751     11.0\n",
       "13655     11.0\n",
       "         ...  \n",
       "3662     546.0\n",
       "10184    645.0\n",
       "5430     743.0\n",
       "4488     758.0\n",
       "18070    927.0\n",
       "Name: Užitná plocha, Length: 19045, dtype: float64"
      ]
     },
     "execution_count": 115,
     "metadata": {},
     "output_type": "execute_result"
    }
   ],
   "source": [
    "# Užitná plocha sorted from lowest to highest\n",
    "df['Užitná plocha'].sort_values()"
   ]
  },
  {
   "cell_type": "code",
   "execution_count": 116,
   "metadata": {},
   "outputs": [],
   "source": [
    "def remove_outliers_using_iqr(df, column_name):\n",
    "    \"\"\"Remove outliers from a DataFrame using the IQR method for a specified column.\"\"\"\n",
    "    # Calculate Q1 and Q3\n",
    "    Q1 = df[column_name].quantile(0.25)\n",
    "    Q3 = df[column_name].quantile(0.75)\n",
    "    \n",
    "    # Calculate IQR\n",
    "    IQR = Q3 - Q1\n",
    "    \n",
    "    # Define bounds\n",
    "    lower_bound = Q1 - 1.5 * IQR\n",
    "    upper_bound = Q3 + 1.5 * IQR\n",
    "    \n",
    "    # Filter out the outliers\n",
    "    df_no_outliers = df[(df[column_name] >= lower_bound) & (df[column_name] <= upper_bound)]\n",
    "    \n",
    "    return df_no_outliers\n",
    "\n",
    "# Remove outliers for \"Celková cena\"\n",
    "df_cleaned_cena = remove_outliers_using_iqr(df, \"Celková cena\")\n",
    "\n",
    "# Remove outliers for \"Užitná plocha\" on the already cleaned data\n",
    "df_cleaned_both = remove_outliers_using_iqr(df_cleaned_cena, \"Užitná plocha\")"
   ]
  },
  {
   "cell_type": "code",
   "execution_count": 117,
   "metadata": {},
   "outputs": [
    {
     "data": {
      "text/html": [
       "<div>\n",
       "<style scoped>\n",
       "    .dataframe tbody tr th:only-of-type {\n",
       "        vertical-align: middle;\n",
       "    }\n",
       "\n",
       "    .dataframe tbody tr th {\n",
       "        vertical-align: top;\n",
       "    }\n",
       "\n",
       "    .dataframe thead th {\n",
       "        text-align: right;\n",
       "    }\n",
       "</style>\n",
       "<table border=\"1\" class=\"dataframe\">\n",
       "  <thead>\n",
       "    <tr style=\"text-align: right;\">\n",
       "      <th></th>\n",
       "      <th>url_id</th>\n",
       "      <th>Celková cena</th>\n",
       "      <th>Podlaží</th>\n",
       "      <th>Užitná plocha</th>\n",
       "      <th>Sklep</th>\n",
       "      <th>Parkování</th>\n",
       "      <th>Výtah</th>\n",
       "      <th>Latitude</th>\n",
       "      <th>Longitude</th>\n",
       "      <th>Terasa</th>\n",
       "      <th>...</th>\n",
       "      <th>Obchod_Far</th>\n",
       "      <th>Obchod_Very Far</th>\n",
       "      <th>Lékárna_Close</th>\n",
       "      <th>Lékárna_Medium Distance</th>\n",
       "      <th>Lékárna_Far</th>\n",
       "      <th>Lékárna_Very Far</th>\n",
       "      <th>Metro_Close</th>\n",
       "      <th>Metro_Medium Distance</th>\n",
       "      <th>Metro_Far</th>\n",
       "      <th>Metro_Very Far</th>\n",
       "    </tr>\n",
       "  </thead>\n",
       "  <tbody>\n",
       "    <tr>\n",
       "      <th>0</th>\n",
       "      <td>722035788</td>\n",
       "      <td>6832000.0</td>\n",
       "      <td>2.0</td>\n",
       "      <td>48.0</td>\n",
       "      <td>1</td>\n",
       "      <td>1</td>\n",
       "      <td>1</td>\n",
       "      <td>50.049548</td>\n",
       "      <td>14.462156</td>\n",
       "      <td>0</td>\n",
       "      <td>...</td>\n",
       "      <td>False</td>\n",
       "      <td>False</td>\n",
       "      <td>False</td>\n",
       "      <td>True</td>\n",
       "      <td>False</td>\n",
       "      <td>False</td>\n",
       "      <td>False</td>\n",
       "      <td>True</td>\n",
       "      <td>False</td>\n",
       "      <td>False</td>\n",
       "    </tr>\n",
       "    <tr>\n",
       "      <th>2</th>\n",
       "      <td>2418832972</td>\n",
       "      <td>6361000.0</td>\n",
       "      <td>1.0</td>\n",
       "      <td>53.0</td>\n",
       "      <td>0</td>\n",
       "      <td>1</td>\n",
       "      <td>0</td>\n",
       "      <td>50.296096</td>\n",
       "      <td>16.359198</td>\n",
       "      <td>0</td>\n",
       "      <td>...</td>\n",
       "      <td>False</td>\n",
       "      <td>True</td>\n",
       "      <td>False</td>\n",
       "      <td>False</td>\n",
       "      <td>False</td>\n",
       "      <td>True</td>\n",
       "      <td>False</td>\n",
       "      <td>False</td>\n",
       "      <td>False</td>\n",
       "      <td>True</td>\n",
       "    </tr>\n",
       "    <tr>\n",
       "      <th>3</th>\n",
       "      <td>3930260556</td>\n",
       "      <td>2214000.0</td>\n",
       "      <td>5.0</td>\n",
       "      <td>35.0</td>\n",
       "      <td>1</td>\n",
       "      <td>1</td>\n",
       "      <td>1</td>\n",
       "      <td>50.723614</td>\n",
       "      <td>15.189542</td>\n",
       "      <td>0</td>\n",
       "      <td>...</td>\n",
       "      <td>False</td>\n",
       "      <td>False</td>\n",
       "      <td>False</td>\n",
       "      <td>False</td>\n",
       "      <td>False</td>\n",
       "      <td>False</td>\n",
       "      <td>False</td>\n",
       "      <td>False</td>\n",
       "      <td>False</td>\n",
       "      <td>True</td>\n",
       "    </tr>\n",
       "    <tr>\n",
       "      <th>5</th>\n",
       "      <td>3756315724</td>\n",
       "      <td>5643000.0</td>\n",
       "      <td>4.0</td>\n",
       "      <td>68.0</td>\n",
       "      <td>1</td>\n",
       "      <td>0</td>\n",
       "      <td>1</td>\n",
       "      <td>50.051077</td>\n",
       "      <td>14.298411</td>\n",
       "      <td>0</td>\n",
       "      <td>...</td>\n",
       "      <td>False</td>\n",
       "      <td>False</td>\n",
       "      <td>True</td>\n",
       "      <td>False</td>\n",
       "      <td>False</td>\n",
       "      <td>False</td>\n",
       "      <td>True</td>\n",
       "      <td>False</td>\n",
       "      <td>False</td>\n",
       "      <td>False</td>\n",
       "    </tr>\n",
       "    <tr>\n",
       "      <th>6</th>\n",
       "      <td>3955312204</td>\n",
       "      <td>5390000.0</td>\n",
       "      <td>4.0</td>\n",
       "      <td>38.0</td>\n",
       "      <td>1</td>\n",
       "      <td>0</td>\n",
       "      <td>1</td>\n",
       "      <td>50.049265</td>\n",
       "      <td>14.438260</td>\n",
       "      <td>0</td>\n",
       "      <td>...</td>\n",
       "      <td>False</td>\n",
       "      <td>False</td>\n",
       "      <td>False</td>\n",
       "      <td>False</td>\n",
       "      <td>False</td>\n",
       "      <td>False</td>\n",
       "      <td>False</td>\n",
       "      <td>False</td>\n",
       "      <td>False</td>\n",
       "      <td>False</td>\n",
       "    </tr>\n",
       "  </tbody>\n",
       "</table>\n",
       "<p>5 rows × 143 columns</p>\n",
       "</div>"
      ],
      "text/plain": [
       "       url_id  Celková cena  Podlaží  Užitná plocha  Sklep  Parkování  Výtah  \\\n",
       "0   722035788     6832000.0      2.0           48.0      1          1      1   \n",
       "2  2418832972     6361000.0      1.0           53.0      0          1      0   \n",
       "3  3930260556     2214000.0      5.0           35.0      1          1      1   \n",
       "5  3756315724     5643000.0      4.0           68.0      1          0      1   \n",
       "6  3955312204     5390000.0      4.0           38.0      1          0      1   \n",
       "\n",
       "    Latitude  Longitude  Terasa  ...  Obchod_Far  Obchod_Very Far  \\\n",
       "0  50.049548  14.462156       0  ...       False            False   \n",
       "2  50.296096  16.359198       0  ...       False             True   \n",
       "3  50.723614  15.189542       0  ...       False            False   \n",
       "5  50.051077  14.298411       0  ...       False            False   \n",
       "6  50.049265  14.438260       0  ...       False            False   \n",
       "\n",
       "   Lékárna_Close  Lékárna_Medium Distance  Lékárna_Far  Lékárna_Very Far  \\\n",
       "0          False                     True        False             False   \n",
       "2          False                    False        False              True   \n",
       "3          False                    False        False             False   \n",
       "5           True                    False        False             False   \n",
       "6          False                    False        False             False   \n",
       "\n",
       "   Metro_Close  Metro_Medium Distance  Metro_Far  Metro_Very Far  \n",
       "0        False                   True      False           False  \n",
       "2        False                  False      False            True  \n",
       "3        False                  False      False            True  \n",
       "5         True                  False      False           False  \n",
       "6        False                  False      False           False  \n",
       "\n",
       "[5 rows x 143 columns]"
      ]
     },
     "execution_count": 117,
     "metadata": {},
     "output_type": "execute_result"
    }
   ],
   "source": [
    "df_cleaned_both.head()\n"
   ]
  },
  {
   "cell_type": "code",
   "execution_count": 118,
   "metadata": {},
   "outputs": [
    {
     "data": {
      "text/plain": [
       "Series([], dtype: int64)"
      ]
     },
     "execution_count": 118,
     "metadata": {},
     "output_type": "execute_result"
    }
   ],
   "source": [
    "missing_values = df_cleaned_both.isnull().sum()\n",
    "missing_values = missing_values[missing_values > 0]\n",
    "\n",
    "missing_values"
   ]
  },
  {
   "cell_type": "code",
   "execution_count": 119,
   "metadata": {},
   "outputs": [
    {
     "data": {
      "text/plain": [
       "(19045, 143)"
      ]
     },
     "execution_count": 119,
     "metadata": {},
     "output_type": "execute_result"
    }
   ],
   "source": [
    "df.shape"
   ]
  },
  {
   "cell_type": "code",
   "execution_count": 120,
   "metadata": {},
   "outputs": [
    {
     "data": {
      "text/plain": [
       "(15684, 143)"
      ]
     },
     "execution_count": 120,
     "metadata": {},
     "output_type": "execute_result"
    }
   ],
   "source": [
    "df_cleaned_both.shape"
   ]
  },
  {
   "cell_type": "code",
   "execution_count": 121,
   "metadata": {},
   "outputs": [],
   "source": [
    "df_cleaned_both.to_csv(data_date + \"_data_cleaned.csv\", index=False)"
   ]
  }
 ],
 "metadata": {
  "kernelspec": {
   "display_name": "base",
   "language": "python",
   "name": "python3"
  },
  "language_info": {
   "codemirror_mode": {
    "name": "ipython",
    "version": 3
   },
   "file_extension": ".py",
   "mimetype": "text/x-python",
   "name": "python",
   "nbconvert_exporter": "python",
   "pygments_lexer": "ipython3",
   "version": "3.9.6"
  },
  "orig_nbformat": 4
 },
 "nbformat": 4,
 "nbformat_minor": 2
}
