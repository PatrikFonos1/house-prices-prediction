{
 "cells": [
  {
   "cell_type": "code",
   "execution_count": null,
   "metadata": {},
   "outputs": [],
   "source": [
    "import requests\n",
    "import json\n",
    "import re\n",
    "import pandas as pd\n",
    "from datetime import datetime\n",
    "import concurrent.futures\n",
    "\n",
    "today_date = datetime.now().strftime('%Y-%m-%d')\n",
    "load_name = f'{today_date}_urls.csv'\n",
    "#load_name = '2023-07-02_urls.csv'\n",
    "\n",
    "df = pd.read_csv(load_name)\n",
    "urls = []\n",
    "\n",
    "def get_data(url):\n",
    "    r = requests.get(url)\n",
    "    data = r.json()\n",
    "    return data\n",
    "\n",
    "# Load URLs\n",
    "df = pd.read_csv(load_name)\n",
    "urls = [\"https://www.sreality.cz/api/cs/v2/estates/\" + str(x) for x in df['url_id']]\n",
    "\n",
    "# create an empty list to store the data\n",
    "data_list = []\n",
    "\n",
    "# Using ThreadPoolExecutor to concurrently fetch data from all the urls.\n",
    "with concurrent.futures.ThreadPoolExecutor(max_workers=2) as executor:\n",
    "    future_to_url = {executor.submit(get_data, url): url for url in urls}\n",
    "    for future in concurrent.futures.as_completed(future_to_url):\n",
    "        url = future_to_url[future]\n",
    "        try:\n",
    "            data = future.result()\n",
    "            data_list.append(data)\n",
    "        except Exception as exc:\n",
    "            print('%r generated an exception: %s' % (url, exc))\n"
   ]
  },
  {
   "cell_type": "code",
   "execution_count": null,
   "metadata": {},
   "outputs": [],
   "source": [
    "# Create an empty DataFrame\n",
    "dict_list = []\n",
    "\n",
    "# loop through the data_list and extract the required data for each item\n",
    "for data in data_list:\n",
    "    # create an empty dictionary to store the data for this item\n",
    "    dict_data = {}\n",
    "\n",
    "    # check if '_links' and 'self' keys are in the data dictionary\n",
    "    if '_links' in data and 'self' in data['_links']:\n",
    "        # add the href value to the dictionary under the name 'url_id'\n",
    "        dict_data['url_id'] = data['_links']['self'].get('href', None)\n",
    "\n",
    "    # check if 'items' key is in the data dictionary\n",
    "    if 'items' in data:\n",
    "        # extract the required data for this item\n",
    "        for item in data['items']:\n",
    "            # add the value to the corresponding key in the dictionary\n",
    "            dict_data[item['name']] = item['value']\n",
    "\n",
    "    # check if 'map' key is in the data dictionary\n",
    "    if 'map' in data:\n",
    "        # add the latitude and longitude to the dictionary\n",
    "        dict_data['Latitude'] = data['map'].get('lat', None)\n",
    "        dict_data['Longitude'] = data['map'].get('lon', None)\n",
    "\n",
    "    # check if there are any 'poi' items in the data\n",
    "    if 'poi' in data:\n",
    "        # loop through each 'poi' item\n",
    "        for poi in data['poi']:\n",
    "            # add the distance to the dictionary under the name of the poi\n",
    "            # note that this will create a new column for each unique poi name\n",
    "            dict_data[poi['name']] = poi['distance']\n",
    "\n",
    "    # append the dictionary to the list\n",
    "    dict_list.append(dict_data)\n",
    "\n",
    "# convert the list of dictionaries to a DataFrame\n",
    "df = pd.DataFrame(dict_list)\n",
    "\n",
    "df.head()\n"
   ]
  },
  {
   "cell_type": "code",
   "execution_count": 12,
   "metadata": {},
   "outputs": [],
   "source": [
    "filename = f'{today_date}_data.csv'\n",
    "df.to_csv(filename, index=False)"
   ]
  }
 ],
 "metadata": {
  "kernelspec": {
   "display_name": "envname",
   "language": "python",
   "name": "python3"
  },
  "language_info": {
   "codemirror_mode": {
    "name": "ipython",
    "version": 3
   },
   "file_extension": ".py",
   "mimetype": "text/x-python",
   "name": "python",
   "nbconvert_exporter": "python",
   "pygments_lexer": "ipython3",
   "version": "3.11.3"
  },
  "orig_nbformat": 4
 },
 "nbformat": 4,
 "nbformat_minor": 2
}
