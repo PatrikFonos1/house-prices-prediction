{
 "cells": [
  {
   "cell_type": "code",
   "execution_count": null,
   "metadata": {},
   "outputs": [],
   "source": [
    "import pandas as pd\n",
    "from sklearn.tree import DecisionTreeRegressor\n",
    "from sklearn.model_selection import train_test_split\n",
    "from sklearn.linear_model import LinearRegression\n",
    "from sklearn.metrics import mean_squared_error\n",
    "from sklearn.ensemble import RandomForestRegressor\n",
    "from sklearn.ensemble import GradientBoostingRegressor\n",
    "import numpy as np\n"
   ]
  },
  {
   "cell_type": "code",
   "execution_count": 47,
   "metadata": {},
   "outputs": [
    {
     "data": {
      "text/html": [
       "<div>\n",
       "<style scoped>\n",
       "    .dataframe tbody tr th:only-of-type {\n",
       "        vertical-align: middle;\n",
       "    }\n",
       "\n",
       "    .dataframe tbody tr th {\n",
       "        vertical-align: top;\n",
       "    }\n",
       "\n",
       "    .dataframe thead th {\n",
       "        text-align: right;\n",
       "    }\n",
       "</style>\n",
       "<table border=\"1\" class=\"dataframe\">\n",
       "  <thead>\n",
       "    <tr style=\"text-align: right;\">\n",
       "      <th></th>\n",
       "      <th>Unnamed: 0</th>\n",
       "      <th>Unnamed: 0.1</th>\n",
       "      <th>url_id</th>\n",
       "      <th>Celková cena</th>\n",
       "      <th>Podlaží</th>\n",
       "      <th>Užitná plocha</th>\n",
       "      <th>Sklep</th>\n",
       "      <th>Parkování</th>\n",
       "      <th>Výtah</th>\n",
       "      <th>Latitude</th>\n",
       "      <th>...</th>\n",
       "      <th>closest_to_Brno</th>\n",
       "      <th>closest_to_Hradec Králové</th>\n",
       "      <th>closest_to_Liberec</th>\n",
       "      <th>closest_to_Olomouc</th>\n",
       "      <th>closest_to_Ostrava</th>\n",
       "      <th>closest_to_Pardubice</th>\n",
       "      <th>closest_to_Pilsen</th>\n",
       "      <th>closest_to_Prague</th>\n",
       "      <th>closest_to_Ústí nad Labem</th>\n",
       "      <th>closest_to_České Budějovice</th>\n",
       "    </tr>\n",
       "  </thead>\n",
       "  <tbody>\n",
       "    <tr>\n",
       "      <th>0</th>\n",
       "      <td>0</td>\n",
       "      <td>0</td>\n",
       "      <td>722035788</td>\n",
       "      <td>6832000.0</td>\n",
       "      <td>2.0</td>\n",
       "      <td>48.0</td>\n",
       "      <td>1</td>\n",
       "      <td>1</td>\n",
       "      <td>1</td>\n",
       "      <td>50.049548</td>\n",
       "      <td>...</td>\n",
       "      <td>0.0</td>\n",
       "      <td>0.0</td>\n",
       "      <td>0.0</td>\n",
       "      <td>0.0</td>\n",
       "      <td>0.0</td>\n",
       "      <td>0.0</td>\n",
       "      <td>0.0</td>\n",
       "      <td>1.0</td>\n",
       "      <td>0.0</td>\n",
       "      <td>0.0</td>\n",
       "    </tr>\n",
       "    <tr>\n",
       "      <th>1</th>\n",
       "      <td>2</td>\n",
       "      <td>2</td>\n",
       "      <td>2418832972</td>\n",
       "      <td>6361000.0</td>\n",
       "      <td>1.0</td>\n",
       "      <td>53.0</td>\n",
       "      <td>0</td>\n",
       "      <td>1</td>\n",
       "      <td>0</td>\n",
       "      <td>50.296096</td>\n",
       "      <td>...</td>\n",
       "      <td>0.0</td>\n",
       "      <td>1.0</td>\n",
       "      <td>0.0</td>\n",
       "      <td>0.0</td>\n",
       "      <td>0.0</td>\n",
       "      <td>0.0</td>\n",
       "      <td>0.0</td>\n",
       "      <td>0.0</td>\n",
       "      <td>0.0</td>\n",
       "      <td>0.0</td>\n",
       "    </tr>\n",
       "    <tr>\n",
       "      <th>2</th>\n",
       "      <td>3</td>\n",
       "      <td>3</td>\n",
       "      <td>3930260556</td>\n",
       "      <td>2214000.0</td>\n",
       "      <td>5.0</td>\n",
       "      <td>35.0</td>\n",
       "      <td>1</td>\n",
       "      <td>1</td>\n",
       "      <td>1</td>\n",
       "      <td>50.723614</td>\n",
       "      <td>...</td>\n",
       "      <td>0.0</td>\n",
       "      <td>0.0</td>\n",
       "      <td>1.0</td>\n",
       "      <td>0.0</td>\n",
       "      <td>0.0</td>\n",
       "      <td>0.0</td>\n",
       "      <td>0.0</td>\n",
       "      <td>0.0</td>\n",
       "      <td>0.0</td>\n",
       "      <td>0.0</td>\n",
       "    </tr>\n",
       "    <tr>\n",
       "      <th>3</th>\n",
       "      <td>5</td>\n",
       "      <td>5</td>\n",
       "      <td>3756315724</td>\n",
       "      <td>5643000.0</td>\n",
       "      <td>4.0</td>\n",
       "      <td>68.0</td>\n",
       "      <td>1</td>\n",
       "      <td>0</td>\n",
       "      <td>1</td>\n",
       "      <td>50.051077</td>\n",
       "      <td>...</td>\n",
       "      <td>0.0</td>\n",
       "      <td>0.0</td>\n",
       "      <td>0.0</td>\n",
       "      <td>0.0</td>\n",
       "      <td>0.0</td>\n",
       "      <td>0.0</td>\n",
       "      <td>0.0</td>\n",
       "      <td>1.0</td>\n",
       "      <td>0.0</td>\n",
       "      <td>0.0</td>\n",
       "    </tr>\n",
       "    <tr>\n",
       "      <th>4</th>\n",
       "      <td>6</td>\n",
       "      <td>6</td>\n",
       "      <td>3955312204</td>\n",
       "      <td>5390000.0</td>\n",
       "      <td>4.0</td>\n",
       "      <td>38.0</td>\n",
       "      <td>1</td>\n",
       "      <td>0</td>\n",
       "      <td>1</td>\n",
       "      <td>50.049265</td>\n",
       "      <td>...</td>\n",
       "      <td>0.0</td>\n",
       "      <td>0.0</td>\n",
       "      <td>0.0</td>\n",
       "      <td>0.0</td>\n",
       "      <td>0.0</td>\n",
       "      <td>0.0</td>\n",
       "      <td>0.0</td>\n",
       "      <td>1.0</td>\n",
       "      <td>0.0</td>\n",
       "      <td>0.0</td>\n",
       "    </tr>\n",
       "  </tbody>\n",
       "</table>\n",
       "<p>5 rows × 161 columns</p>\n",
       "</div>"
      ],
      "text/plain": [
       "   Unnamed: 0  Unnamed: 0.1      url_id  Celková cena  Podlaží  Užitná plocha  \\\n",
       "0           0             0   722035788     6832000.0      2.0           48.0   \n",
       "1           2             2  2418832972     6361000.0      1.0           53.0   \n",
       "2           3             3  3930260556     2214000.0      5.0           35.0   \n",
       "3           5             5  3756315724     5643000.0      4.0           68.0   \n",
       "4           6             6  3955312204     5390000.0      4.0           38.0   \n",
       "\n",
       "   Sklep  Parkování  Výtah   Latitude  ...  closest_to_Brno  \\\n",
       "0      1          1      1  50.049548  ...              0.0   \n",
       "1      0          1      0  50.296096  ...              0.0   \n",
       "2      1          1      1  50.723614  ...              0.0   \n",
       "3      1          0      1  50.051077  ...              0.0   \n",
       "4      1          0      1  50.049265  ...              0.0   \n",
       "\n",
       "   closest_to_Hradec Králové  closest_to_Liberec  closest_to_Olomouc  \\\n",
       "0                        0.0                 0.0                 0.0   \n",
       "1                        1.0                 0.0                 0.0   \n",
       "2                        0.0                 1.0                 0.0   \n",
       "3                        0.0                 0.0                 0.0   \n",
       "4                        0.0                 0.0                 0.0   \n",
       "\n",
       "   closest_to_Ostrava  closest_to_Pardubice  closest_to_Pilsen  \\\n",
       "0                 0.0                   0.0                0.0   \n",
       "1                 0.0                   0.0                0.0   \n",
       "2                 0.0                   0.0                0.0   \n",
       "3                 0.0                   0.0                0.0   \n",
       "4                 0.0                   0.0                0.0   \n",
       "\n",
       "   closest_to_Prague  closest_to_Ústí nad Labem  closest_to_České Budějovice  \n",
       "0                1.0                        0.0                          0.0  \n",
       "1                0.0                        0.0                          0.0  \n",
       "2                0.0                        0.0                          0.0  \n",
       "3                1.0                        0.0                          0.0  \n",
       "4                1.0                        0.0                          0.0  \n",
       "\n",
       "[5 rows x 161 columns]"
      ]
     },
     "execution_count": 47,
     "metadata": {},
     "output_type": "execute_result"
    }
   ],
   "source": [
    "data = pd.read_csv(\"2023-06-25_data_cleaned_enhanced_data_no_outliers.csv\")\n",
    "data.head()"
   ]
  },
  {
   "cell_type": "code",
   "execution_count": 48,
   "metadata": {},
   "outputs": [],
   "source": [
    "# Drop the target variable and unnecessary columns\n",
    "X = data.drop(['Celková cena', 'Unnamed: 0', 'Unnamed: 0.1', 'Latitude', 'Longitude', 'coords'], axis=1)\n",
    "\n",
    "# 'Celková cena' is our target variable\n",
    "y = data['Celková cena']\n",
    "\n",
    "# Split the data into training and testing sets\n",
    "X_train, X_test, y_train, y_test = train_test_split(X, y, test_size=0.2, random_state=42)\n"
   ]
  },
  {
   "cell_type": "code",
   "execution_count": 49,
   "metadata": {},
   "outputs": [
    {
     "data": {
      "text/plain": [
       "1043597.6288911604"
      ]
     },
     "execution_count": 49,
     "metadata": {},
     "output_type": "execute_result"
    }
   ],
   "source": [
    "# Create a Linear Regression model\n",
    "lr = LinearRegression()\n",
    "\n",
    "# Train the model\n",
    "lr.fit(X_train, y_train)\n",
    "\n",
    "# Make predictions\n",
    "lr_predictions = lr.predict(X_test)\n",
    "\n",
    "# Calculate RMSE\n",
    "lr_rmse = np.sqrt(mean_squared_error(y_test, lr_predictions))\n",
    "\n",
    "lr_rmse\n"
   ]
  },
  {
   "cell_type": "code",
   "execution_count": 50,
   "metadata": {},
   "outputs": [
    {
     "data": {
      "text/plain": [
       "1288317.352267075"
      ]
     },
     "execution_count": 50,
     "metadata": {},
     "output_type": "execute_result"
    }
   ],
   "source": [
    "# Create a Decision Tree Regressor model\n",
    "dt = DecisionTreeRegressor(random_state=42)\n",
    "\n",
    "# Train the model\n",
    "dt.fit(X_train, y_train)\n",
    "\n",
    "# Make predictions\n",
    "dt_predictions = dt.predict(X_test)\n",
    "\n",
    "# Calculate RMSE\n",
    "dt_rmse = np.sqrt(mean_squared_error(y_test, dt_predictions))\n",
    "\n",
    "dt_rmse\n"
   ]
  },
  {
   "cell_type": "code",
   "execution_count": 51,
   "metadata": {},
   "outputs": [
    {
     "data": {
      "text/plain": [
       "907787.0616488393"
      ]
     },
     "execution_count": 51,
     "metadata": {},
     "output_type": "execute_result"
    }
   ],
   "source": [
    "# Create a Random Forest Regressor model\n",
    "rf = RandomForestRegressor(random_state=42)\n",
    "\n",
    "# Train the model\n",
    "rf.fit(X_train, y_train)\n",
    "\n",
    "# Make predictions\n",
    "rf_predictions = rf.predict(X_test)\n",
    "\n",
    "# Calculate RMSE\n",
    "rf_rmse = np.sqrt(mean_squared_error(y_test, rf_predictions))\n",
    "\n",
    "rf_rmse\n"
   ]
  },
  {
   "cell_type": "code",
   "execution_count": 52,
   "metadata": {},
   "outputs": [
    {
     "data": {
      "text/plain": [
       "984177.0501123858"
      ]
     },
     "execution_count": 52,
     "metadata": {},
     "output_type": "execute_result"
    }
   ],
   "source": [
    "# Create a Gradient Boosting Regressor model\n",
    "gb = GradientBoostingRegressor(random_state=42)\n",
    "\n",
    "# Train the model\n",
    "gb.fit(X_train, y_train)\n",
    "\n",
    "# Make predictions\n",
    "gb_predictions = gb.predict(X_test)\n",
    "\n",
    "# Calculate RMSE\n",
    "gb_rmse = np.sqrt(mean_squared_error(y_test, gb_predictions))\n",
    "\n",
    "gb_rmse\n"
   ]
  },
  {
   "cell_type": "code",
   "execution_count": 7,
   "metadata": {},
   "outputs": [
    {
     "name": "stdout",
     "output_type": "stream",
     "text": [
      "Fitting 3 folds for each of 108 candidates, totalling 324 fits\n"
     ]
    },
    {
     "data": {
      "text/plain": [
       "{'max_depth': None,\n",
       " 'min_samples_leaf': 2,\n",
       " 'min_samples_split': 2,\n",
       " 'n_estimators': 100}"
      ]
     },
     "execution_count": 7,
     "metadata": {},
     "output_type": "execute_result"
    }
   ],
   "source": [
    "#from sklearn.model_selection import GridSearchCV\n",
    "#\n",
    "## Define the parameter grid\n",
    "#param_grid = {\n",
    "#    'n_estimators': [50, 100, 200],\n",
    "#    'max_depth': [None, 10, 20, 30],\n",
    "#    'min_samples_split': [2, 5, 10],\n",
    "#    'min_samples_leaf': [1, 2, 4],\n",
    "#}\n",
    "#\n",
    "## Create a base model\n",
    "#rf = RandomForestRegressor(random_state=42)\n",
    "#\n",
    "## Instantiate the grid search model\n",
    "#grid_search = GridSearchCV(estimator=rf, param_grid=param_grid, cv=3, scoring='neg_mean_squared_error', verbose=2, n_jobs=-1)\n",
    "#\n",
    "## Fit the grid search to the data\n",
    "#grid_search.fit(X_train, y_train)\n",
    "#\n",
    "## Get the best parameters\n",
    "#best_params = grid_search.best_params_\n",
    "#\n",
    "#best_params\n"
   ]
  },
  {
   "cell_type": "code",
   "execution_count": 53,
   "metadata": {},
   "outputs": [
    {
     "data": {
      "text/plain": [
       "913091.4868734049"
      ]
     },
     "execution_count": 53,
     "metadata": {},
     "output_type": "execute_result"
    }
   ],
   "source": [
    "# Create a Random Forest Regressor model with the best parameters\n",
    "rf_best = RandomForestRegressor(\n",
    "    max_depth=None, \n",
    "    min_samples_leaf=2, \n",
    "    min_samples_split=2, \n",
    "    n_estimators=100, \n",
    "    random_state=42\n",
    ")\n",
    "\n",
    "# Train the model\n",
    "rf_best.fit(X_train, y_train)\n",
    "\n",
    "# Make predictions\n",
    "rf_best_predictions = rf_best.predict(X_test)\n",
    "\n",
    "# Calculate RMSE\n",
    "rf_best_rmse = np.sqrt(mean_squared_error(y_test, rf_best_predictions))\n",
    "\n",
    "rf_best_rmse\n"
   ]
  }
 ],
 "metadata": {
  "kernelspec": {
   "display_name": "base",
   "language": "python",
   "name": "python3"
  },
  "language_info": {
   "codemirror_mode": {
    "name": "ipython",
    "version": 3
   },
   "file_extension": ".py",
   "mimetype": "text/x-python",
   "name": "python",
   "nbconvert_exporter": "python",
   "pygments_lexer": "ipython3",
   "version": "3.9.16"
  },
  "orig_nbformat": 4
 },
 "nbformat": 4,
 "nbformat_minor": 2
}
